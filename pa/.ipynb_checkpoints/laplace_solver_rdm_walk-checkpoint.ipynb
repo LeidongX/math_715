{
 "cells": [
  {
   "cell_type": "code",
   "execution_count": 1,
   "metadata": {
    "collapsed": true
   },
   "outputs": [],
   "source": [
    "#laplace_solver_rdm_walk\n",
    "#\n",
    "#\n",
    "#  Solves the Laplace equation on a square with given constant temperatures\n",
    "#  on each of the four boundaries, using a random walk/Markov chain approach\n",
    "\n",
    "%matplotlib inline\n",
    "\n",
    "import numpy as np\n",
    "import scipy as sp\n",
    "from scipy.sparse import *\n",
    "import matplotlib.pyplot as plt\n",
    "import matplotlib.cm as cm"
   ]
  },
  {
   "cell_type": "code",
   "execution_count": 7,
   "metadata": {
    "collapsed": true
   },
   "outputs": [],
   "source": [
    "# number of dots in each dimension\n",
    "n = 3\n",
    "\n",
    "# boundary values\n",
    "g_left   = 0\n",
    "g_right  = 2\n",
    "g_top    = 3\n",
    "g_bottom = 0"
   ]
  },
  {
   "cell_type": "markdown",
   "metadata": {},
   "source": [
    "# NOTES\n",
    "\n",
    "   1. The solution $u(i,j)$ is stored in a stacked vector with the $(i,j)$\n",
    "      entry corresponding to the vector index $k=i+jn$.\n",
    "\n",
    "   1. The value $u(i,j)$ corresponds to the point $(x(j),y(i))$.\n",
    "   \n",
    "   1. The transition matrix for the random walk on a grid is very sparse since every node only has 4 neighbors. There we must decide how to handle sparse matrices. We chose to use the [`csr_matrix`](https://docs.scipy.org/doc/scipy-0.14.0/reference/generated/scipy.sparse.csr_matrix.html) class from `scipy.sparse`. In particular, we will fill the entries using \n",
    "   \n",
    "   `csr_matrix( (data,(row,col)), shape=(,) )` \n",
    "   \n",
    "   where `data[k]` is the entry we want in position `(i=row[k],j=col[k])`.\n"
   ]
  },
  {
   "cell_type": "code",
   "execution_count": 8,
   "metadata": {
    "collapsed": true
   },
   "outputs": [],
   "source": [
    "# build matrix M and the right-hand side b\n",
    "\n",
    "\n",
    "b = np.zeros( (n**2, 1) )\n",
    "\n",
    "I = []\n",
    "J = []\n",
    "V = []\n",
    "\n",
    "# indices for different boundaries\n",
    "i_left   = n**2\n",
    "i_right  = n**2 + 1\n",
    "i_top    = n**2 + 2\n",
    "i_bottom = n**2 + 3\n",
    "\n",
    "for i in range(n):\n",
    "\n",
    "    for j in range(n):\n",
    "\n",
    "        # index of u(i,j) in the arrays\n",
    "        k = i + j*n\n",
    "\n",
    "        # Check if the node's lower neighbor is a boundary node.\n",
    "        if i > 0: # no\n",
    "            I.append(k)\n",
    "            J.append(k-1)\n",
    "            V.append(0.25)\n",
    "        else:\n",
    "            I.append(k)\n",
    "            J.append(i_bottom)\n",
    "            V.append(0.25)\n",
    "\n",
    "        # Check if the node's upper neighbor is a boundary node.\n",
    "        if i < n-1: # no\n",
    "            I.append(k)\n",
    "            J.append(k+1)\n",
    "            V.append(0.25)\n",
    "        else:\n",
    "            I.append(k)\n",
    "            J.append(i_top)\n",
    "            V.append(0.25)\n",
    "\n",
    "        # Check if the node's left neighbor is a boundary node.\n",
    "        if j > 0: # no\n",
    "            I.append(k)\n",
    "            J.append(k-n)\n",
    "            V.append(0.25)\n",
    "        else:\n",
    "            I.append(k)\n",
    "            J.append(i_left)\n",
    "            V.append(0.25)\n",
    "\n",
    "        # Check if the node's right neighbor is a boundary node.\n",
    "        if j < n-1: # no\n",
    "            I.append(k)\n",
    "            J.append(k+n)\n",
    "            V.append(0.25)\n",
    "        else:\n",
    "            I.append(k)\n",
    "            J.append(i_right)\n",
    "            V.append(0.25)\n",
    "\n",
    "# boundaries are 'sticky'\n",
    "I.append(i_left)\n",
    "J.append(i_left)\n",
    "V.append(1)\n",
    "\n",
    "I.append(i_right)\n",
    "J.append(i_right)\n",
    "V.append(1)\n",
    "\n",
    "I.append(i_top)\n",
    "J.append(i_top)\n",
    "V.append(1)\n",
    "\n",
    "I.append(i_bottom)\n",
    "J.append(i_bottom)\n",
    "V.append(1)\n",
    "\n",
    "M = csr_matrix( (V,(I,J)), shape = (n**2+4, n**2+4) )"
   ]
  },
  {
   "cell_type": "code",
   "execution_count": 9,
   "metadata": {},
   "outputs": [
    {
     "data": {
      "text/plain": [
       "matrix([[ 0.  ,  0.25,  0.  ,  0.25,  0.  ,  0.  ,  0.  ,  0.  ,  0.  ,\n",
       "          0.25,  0.  ,  0.  ,  0.25],\n",
       "        [ 0.25,  0.  ,  0.25,  0.  ,  0.25,  0.  ,  0.  ,  0.  ,  0.  ,\n",
       "          0.25,  0.  ,  0.  ,  0.  ],\n",
       "        [ 0.  ,  0.25,  0.  ,  0.  ,  0.  ,  0.25,  0.  ,  0.  ,  0.  ,\n",
       "          0.25,  0.  ,  0.25,  0.  ],\n",
       "        [ 0.25,  0.  ,  0.  ,  0.  ,  0.25,  0.  ,  0.25,  0.  ,  0.  ,\n",
       "          0.  ,  0.  ,  0.  ,  0.25],\n",
       "        [ 0.  ,  0.25,  0.  ,  0.25,  0.  ,  0.25,  0.  ,  0.25,  0.  ,\n",
       "          0.  ,  0.  ,  0.  ,  0.  ],\n",
       "        [ 0.  ,  0.  ,  0.25,  0.  ,  0.25,  0.  ,  0.  ,  0.  ,  0.25,\n",
       "          0.  ,  0.  ,  0.25,  0.  ],\n",
       "        [ 0.  ,  0.  ,  0.  ,  0.25,  0.  ,  0.  ,  0.  ,  0.25,  0.  ,\n",
       "          0.  ,  0.25,  0.  ,  0.25],\n",
       "        [ 0.  ,  0.  ,  0.  ,  0.  ,  0.25,  0.  ,  0.25,  0.  ,  0.25,\n",
       "          0.  ,  0.25,  0.  ,  0.  ],\n",
       "        [ 0.  ,  0.  ,  0.  ,  0.  ,  0.  ,  0.25,  0.  ,  0.25,  0.  ,\n",
       "          0.  ,  0.25,  0.25,  0.  ],\n",
       "        [ 0.  ,  0.  ,  0.  ,  0.  ,  0.  ,  0.  ,  0.  ,  0.  ,  0.  ,\n",
       "          1.  ,  0.  ,  0.  ,  0.  ],\n",
       "        [ 0.  ,  0.  ,  0.  ,  0.  ,  0.  ,  0.  ,  0.  ,  0.  ,  0.  ,\n",
       "          0.  ,  1.  ,  0.  ,  0.  ],\n",
       "        [ 0.  ,  0.  ,  0.  ,  0.  ,  0.  ,  0.  ,  0.  ,  0.  ,  0.  ,\n",
       "          0.  ,  0.  ,  1.  ,  0.  ],\n",
       "        [ 0.  ,  0.  ,  0.  ,  0.  ,  0.  ,  0.  ,  0.  ,  0.  ,  0.  ,\n",
       "          0.  ,  0.  ,  0.  ,  1.  ]])"
      ]
     },
     "execution_count": 9,
     "metadata": {},
     "output_type": "execute_result"
    }
   ],
   "source": [
    "M.todense()"
   ]
  },
  {
   "cell_type": "code",
   "execution_count": 10,
   "metadata": {
    "collapsed": true
   },
   "outputs": [],
   "source": [
    "# iterate a lot of transitions to stable distribution\n",
    "S = M**(2*n**2)"
   ]
  },
  {
   "cell_type": "code",
   "execution_count": 11,
   "metadata": {
    "collapsed": true
   },
   "outputs": [],
   "source": [
    "# form u into a grid solution\n",
    "U = np.zeros( (n+2, n+2) )\n",
    "U[0,:]   = g_bottom\n",
    "U[-1,:] = g_top\n",
    "U[:,0]   = g_left\n",
    "U[:,-1] = g_right"
   ]
  },
  {
   "cell_type": "code",
   "execution_count": 12,
   "metadata": {
    "collapsed": true
   },
   "outputs": [],
   "source": [
    "# loops again \n",
    "boundary_vals = [ g_left, g_right, g_top, g_bottom ]\n",
    "for i in range(n):\n",
    "    for j in range(n):\n",
    "\n",
    "        # index of u_ij in the U array\n",
    "        k = i + j*n;\n",
    "\n",
    "        U[i+1,j+1] = S[k,-4:]*boundary_vals"
   ]
  },
  {
   "cell_type": "code",
   "execution_count": 13,
   "metadata": {},
   "outputs": [
    {
     "data": {
      "text/plain": [
       "<matplotlib.image.AxesImage at 0x95aaf28>"
      ]
     },
     "execution_count": 13,
     "metadata": {},
     "output_type": "execute_result"
    },
    {
     "data": {
      "image/png": "[encoded data removed]",
      "text/plain": [
       "<matplotlib.figure.Figure at 0x9489668>"
      ]
     },
     "metadata": {},
     "output_type": "display_data"
    }
   ],
   "source": [
    "#plot the solution\n",
    "\n",
    "plt.imshow( U , cmap=cm.jet, origin='lower')\n",
    "#set( gca, 'YDir', 'normal' ); % imagesc draws upside down by default"
   ]
  },
  {
   "cell_type": "code",
   "execution_count": 0,
   "metadata": {
    "collapsed": true
   },
   "outputs": [],
   "source": []
  }
 ],
 "metadata": {
  "kernelspec": {
   "display_name": "Python 3",
   "language": "python",
   "name": "python3"
  },
  "language_info": {
   "codemirror_mode": {
    "name": "ipython",
    "version": 3
   },
   "file_extension": ".py",
   "mimetype": "text/x-python",
   "name": "python",
   "nbconvert_exporter": "python",
   "pygments_lexer": "ipython3",
   "version": "3.6.3"
  }
 },
 "nbformat": 4,
 "nbformat_minor": 1
}
